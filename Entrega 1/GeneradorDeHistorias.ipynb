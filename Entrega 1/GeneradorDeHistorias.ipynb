{
  "nbformat": 4,
  "nbformat_minor": 0,
  "metadata": {
    "colab": {
      "provenance": [],
      "toc_visible": true,
      "authorship_tag": "ABX9TyOyLXDCsptEmCe/tLP22Tq5",
      "include_colab_link": true
    },
    "kernelspec": {
      "name": "python3",
      "display_name": "Python 3"
    },
    "language_info": {
      "name": "python"
    }
  },
  "cells": [
    {
      "cell_type": "markdown",
      "metadata": {
        "id": "view-in-github",
        "colab_type": "text"
      },
      "source": [
        "<a href=\"https://colab.research.google.com/github/Nouhx/EjerciciosPython/blob/main/Entrega%201/GeneradorDeHistorias.ipynb\" target=\"_parent\"><img src=\"https://colab.research.google.com/assets/colab-badge.svg\" alt=\"Open In Colab\"/></a>"
      ]
    },
    {
      "cell_type": "markdown",
      "source": [
        "# Generador de historias."
      ],
      "metadata": {
        "id": "Zq5EvnovjBVk"
      }
    },
    {
      "cell_type": "code",
      "execution_count": null,
      "metadata": {
        "id": "H2jVvX53iM1D"
      },
      "outputs": [],
      "source": [
        "#                                                  Generador de historias\n",
        "#Librerias\n",
        "import random\n",
        "\n",
        "#Listas\n",
        "personajes=[\"Zoro\", \"Una princesa\",\"Usop\",\"Nami\",\"Chopper\"]\n",
        "lugares=[\"en un Barco\",\"En Bogotá\",\"en Cali\"]\n",
        "acciones=[\"baila con\",\"huye de\",\"lucha contra\",\"habla con\"]\n",
        "\n",
        "#Ingresar personaje principal\n",
        "principal=input(\"Por favor ingresa al personaje principal: \")\n",
        "\n",
        "#Número de historias a generar\n",
        "num=int(input(\"¿Cuántas historias quieres generar?\\n\"))\n",
        "\n",
        "#En caso de que num sea menor o igual que 0 automanticamente se le asigna el valor de num como 10.\n",
        "if num<=0:\n",
        "  num=10\n",
        "\n",
        "#Añadir nuevos personajes\n",
        "validar=input(\"Quieres añadir personajes, lugares y acciones?(si/no)\\n\")\n",
        "\n",
        "#Condicional y estructura de control para saber si el usuario desea añadir nuevos personajes, lugares y acciones.\n",
        "if validar==\"si\":\n",
        "    repeticiones=int(input(\"Cuántos quieres añadir por cada uno?\\n\"))\n",
        "    if repeticiones>0:\n",
        "      for a in range(repeticiones):\n",
        "        nuevo_personaje=input(\"Ingresa un nuevo personaje: \")\n",
        "        personajes.append(nuevo_personaje)\n",
        "        nuevo_lugar=input(\"Ingresa un nuevo lugar: \")\n",
        "        lugares.append(nuevo_lugar)\n",
        "        nueva_accion=input(\"Ingresa una nueva acción: \")\n",
        "        acciones.append(nueva_accion)\n",
        "        print(\"\")\n",
        "    else:\n",
        "      print(\"No es un número válido, seguiremos con las historias.\\n\")\n",
        "else:\n",
        "    print(\"\\nComo no quieres ingresar nada nuevo continuaremos.\\n\")\n",
        "\n",
        "#Función para generar una historia\n",
        "def generar_historia():\n",
        "    personaje=random.choice(personajes)\n",
        "    lugar=random.choice(lugares)\n",
        "    accion=random.choice(acciones)\n",
        "    historia=(f\"{personaje} {accion} {principal} {lugar}\")\n",
        "    return historia\n",
        "\n",
        "#Generar las historias.\n",
        "for i in range (num):\n",
        "    historia=generar_historia()\n",
        "    print(f\"Historia {i+1}: {historia}\")"
      ]
    }
  ]
}