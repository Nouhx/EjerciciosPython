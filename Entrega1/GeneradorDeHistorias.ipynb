{
  "nbformat": 4,
  "nbformat_minor": 0,
  "metadata": {
    "colab": {
      "provenance": [],
      "toc_visible": true,
      "authorship_tag": "ABX9TyOZ8fjTNW3nqUjMk+FUfVVY",
      "include_colab_link": true
    },
    "kernelspec": {
      "name": "python3",
      "display_name": "Python 3"
    },
    "language_info": {
      "name": "python"
    }
  },
  "cells": [
    {
      "cell_type": "markdown",
      "metadata": {
        "id": "view-in-github",
        "colab_type": "text"
      },
      "source": [
        "<a href=\"https://colab.research.google.com/github/Nouhx/EjerciciosPython/blob/main/Entrega1/GeneradorDeHistorias.ipynb\" target=\"_parent\"><img src=\"https://colab.research.google.com/assets/colab-badge.svg\" alt=\"Open In Colab\"/></a>"
      ]
    },
    {
      "cell_type": "markdown",
      "source": [
        "# Generador de historias."
      ],
      "metadata": {
        "id": "Zq5EvnovjBVk"
      }
    },
    {
      "cell_type": "code",
      "execution_count": 3,
      "metadata": {
        "colab": {
          "base_uri": "https://localhost:8080/"
        },
        "id": "H2jVvX53iM1D",
        "outputId": "c740ccfe-19c2-4b5a-9575-ae6fc9b0cd31"
      },
      "outputs": [
        {
          "output_type": "stream",
          "name": "stdout",
          "text": [
            "Por favor ingresa al personaje principal: Luffy\n",
            "¿Cuántas historias quieres generar?\n",
            "10\n",
            "Quieres añadir personajes, lugares y acciones?(si/no)\n",
            "no\n",
            "\n",
            "Como no quieres ingresar nada nuevo continuaremos.\n",
            "\n",
            "Historia 1: Nami habla con Luffy en un Barco\n",
            "Historia 2: Zoro baila con Luffy en Cali\n",
            "Historia 3: Chopper habla con Luffy en Cali\n",
            "Historia 4: Zoro lucha contra Luffy en Cali\n",
            "Historia 5: Una princesa habla con Luffy En Bogotá\n",
            "Historia 6: Nami huye de Luffy en Cali\n",
            "Historia 7: Usop huye de Luffy en Cali\n",
            "Historia 8: Nami baila con Luffy En Bogotá\n",
            "Historia 9: Chopper huye de Luffy En Bogotá\n",
            "Historia 10: Nami lucha contra Luffy en un Barco\n"
          ]
        }
      ],
      "source": [
        "#                                                  Generador de historias\n",
        "#Librerias\n",
        "import random\n",
        "\n",
        "#Listas\n",
        "personajes=[\"Zoro\", \"Una princesa\",\"Usop\",\"Nami\",\"Chopper\"]\n",
        "lugares=[\"en un Barco\",\"En Bogotá\",\"en Cali\"]\n",
        "acciones=[\"baila con\",\"huye de\",\"lucha contra\",\"habla con\"]\n",
        "\n",
        "#Ingresar personaje principal\n",
        "principal=input(\"Por favor ingresa al personaje principal: \")\n",
        "\n",
        "#Número de historias a generar\n",
        "num=int(input(\"¿Cuántas historias quieres generar?\\n\"))\n",
        "\n",
        "#Añadir nuevos personajes\n",
        "validar=input(\"Quieres añadir personajes, lugares y acciones?(si/no)\\n\")\n",
        "\n",
        "#Condicional y estructura de control para saber si el usuario desea añadir nuevos personajes, lugares y acciones.\n",
        "if validar==\"si\":\n",
        "    repeticiones=int(input(\"Cuántos quieres añadir por cada uno?\\n\"))\n",
        "    for a in range(repeticiones):\n",
        "        nuevo_personaje=input(\"Ingresa un nuevo personaje: \")\n",
        "        personajes.append(nuevo_personaje)\n",
        "        nuevo_lugar=input(\"Ingresa un nuevo lugar: \")\n",
        "        lugares.append(nuevo_lugar)\n",
        "        nueva_accion=input(\"Ingresa una nueva acción: \")\n",
        "        acciones.append(nueva_accion)\n",
        "        print(\"\")\n",
        "else:\n",
        "    print(\"\\nComo no quieres ingresar nada nuevo continuaremos.\\n\")\n",
        "\n",
        "#Función para generar una historia\n",
        "def generar_historia():\n",
        "    personaje=random.choice(personajes)\n",
        "    lugar=random.choice(lugares)\n",
        "    accion=random.choice(acciones)\n",
        "    historia=(f\"{personaje} {accion} {principal} {lugar}\")\n",
        "    return historia\n",
        "\n",
        "#Generar las historias, en este caso son 10\n",
        "for i in range (num):\n",
        "    historia=generar_historia()\n",
        "    print(f\"Historia {i+1}: {historia}\")"
      ]
    }
  ]
}